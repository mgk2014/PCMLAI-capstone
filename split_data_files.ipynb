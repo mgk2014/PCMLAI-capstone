{
 "cells": [
  {
   "cell_type": "code",
   "execution_count": 1,
   "metadata": {},
   "outputs": [],
   "source": [
    "# split the data files provided from Kaggle\n",
    "import pandas as pd"
   ]
  },
  {
   "cell_type": "code",
   "execution_count": null,
   "metadata": {},
   "outputs": [
    {
     "name": "stderr",
     "output_type": "stream",
     "text": [
      "/var/folders/0t/f834b52j5jnfwqmx1l_q6km40000gn/T/ipykernel_25573/2957454906.py:5: DtypeWarning: Columns (10,11) have mixed types. Specify dtype option on import or set low_memory=False.\n",
      "  test_data = pd.read_csv('ORIGINAL-DATA/GUIDE_Test.csv')\n"
     ]
    }
   ],
   "source": [
    "\n",
    "\n",
    "# Load the data file\n",
    "train_data = pd.read_csv('ORIGINAL-DATA/GUIDE_Train.csv')\n",
    "test_data = pd.read_csv('ORIGINAL-DATA/GUIDE_Test.csv')\n",
    "\n",
    "# Save the training data with fewer rows\n",
    "train_data.head(100000).to_csv('DATA/GUIDE_Train.csv', index=False)\n",
    "test_data.head(100000).to_csv('DATA/GUIDE_Test.csv', index=False)"
   ]
  },
  {
   "cell_type": "code",
   "execution_count": 2,
   "metadata": {},
   "outputs": [],
   "source": [
    "new_train_data = pd.read_csv('DATA/GUIDE_Train.csv')"
   ]
  },
  {
   "cell_type": "code",
   "execution_count": 3,
   "metadata": {},
   "outputs": [
    {
     "data": {
      "text/plain": [
       "(100000, 45)"
      ]
     },
     "execution_count": 3,
     "metadata": {},
     "output_type": "execute_result"
    }
   ],
   "source": [
    "new_train_data.shape"
   ]
  },
  {
   "cell_type": "code",
   "execution_count": null,
   "metadata": {},
   "outputs": [],
   "source": []
  }
 ],
 "metadata": {
  "kernelspec": {
   "display_name": "BerkeleyAIML",
   "language": "python",
   "name": "python3"
  },
  "language_info": {
   "codemirror_mode": {
    "name": "ipython",
    "version": 3
   },
   "file_extension": ".py",
   "mimetype": "text/x-python",
   "name": "python",
   "nbconvert_exporter": "python",
   "pygments_lexer": "ipython3",
   "version": "3.12.2"
  }
 },
 "nbformat": 4,
 "nbformat_minor": 2
}
